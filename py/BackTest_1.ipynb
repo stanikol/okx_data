{
 "cells": [
  {
   "cell_type": "code",
   "execution_count": 10,
   "id": "b6e2aaa3-62b7-4a8a-88c6-40b4ca736130",
   "metadata": {},
   "outputs": [
    {
     "name": "stdout",
     "output_type": "stream",
     "text": [
      "Writing backtest_1.py\n"
     ]
    }
   ],
   "source": [
    "%%writefile \"backtest_1.py\"\n",
    "import pandas as pd\n",
    "import psycopg2 as psql\n",
    "\n",
    "from backtesting import Strategy\n",
    "from backtesting.lib import crossover\n",
    "from backtesting import Backtest\n",
    "\n",
    "\n",
    "def SMA(values, n):\n",
    "    \"\"\"\n",
    "    Return simple moving average of `values`, at\n",
    "    each step taking into account `n` previous values.\n",
    "    \"\"\"\n",
    "    return pd.Series(values).rolling(n).mean()\n",
    "\n",
    "class SmaCross(Strategy):\n",
    "    # Define the two MA lags as *class variables*\n",
    "    # for later optimization\n",
    "    n1 = 10\n",
    "    n2 = 20\n",
    "\n",
    "    def init(self):\n",
    "        # Precompute the two moving averages\n",
    "        self.sma1 = self.I(SMA, self.data.Close, self.n1)\n",
    "        self.sma2 = self.I(SMA, self.data.Close, self.n2)\n",
    "\n",
    "    def next(self):\n",
    "        # If sma1 crosses above sma2, close any existing\n",
    "        # short trades, and buy the asset\n",
    "        if crossover(self.sma1, self.sma2):\n",
    "            self.position.close()\n",
    "            self.buy()\n",
    "\n",
    "        # Else, if sma1 crosses below sma2, close any existing\n",
    "        # long trades, and sell the asset\n",
    "        elif crossover(self.sma2, self.sma1):\n",
    "            self.position.close()\n",
    "            self.sell()\n",
    "\n",
    "\n",
    "\n",
    "if __name__ == '__main__':\n",
    "    connection = psql.connect(database='okx', user='okx', password='example',\n",
    "                              host='127.0.0.1', port=5432)\n",
    "    RENAME_COLS = {'open': 'Open', 'high': 'High', 'low': 'Low', 'close': 'Close', 'volume': 'Volume'}\n",
    "    df = pd.read_sql(\"select * from okx_candle_btc_usdt_1m;\", connection)\\\n",
    "            .rename(columns=RENAME_COLS)\n",
    "    df[['Open', 'High', 'Low', 'Close', 'Volume']] = df[['Open', 'High', 'Low', 'Close', 'Volume']] / 1e6\n",
    "    df.ts = pd.to_datetime(df.ts)\n",
    "    print(df.head)\n",
    "    \n",
    "\n",
    "    bt = Backtest(df, SmaCross, cash=10_000, commission=.002)\n",
    "    stats = bt.run()\n",
    "    print(stats)\n"
   ]
  },
  {
   "cell_type": "code",
   "execution_count": 9,
   "id": "087a6ca1-02e5-4ca5-821e-30932f989bd2",
   "metadata": {},
   "outputs": [
    {
     "data": {
      "text/plain": [
       "Start                                     0.0\n",
       "End                                   53993.0\n",
       "Duration                              53993.0\n",
       "Exposure Time [%]                    98.68874\n",
       "Equity Final [$]                      0.11694\n",
       "Equity Peak [$]                       10000.0\n",
       "Commissions [$]                   10069.74612\n",
       "Return [%]                          -99.99883\n",
       "Buy & Hold Return [%]                 1.20733\n",
       "Return (Ann.) [%]                         0.0\n",
       "Volatility (Ann.) [%]                     NaN\n",
       "Sharpe Ratio                              NaN\n",
       "Sortino Ratio                             NaN\n",
       "Calmar Ratio                              0.0\n",
       "Alpha [%]                           -99.93276\n",
       "Beta                                 -0.05472\n",
       "Max. Drawdown [%]                   -99.99883\n",
       "Avg. Drawdown [%]                   -99.99883\n",
       "Max. Drawdown Duration                53935.0\n",
       "Avg. Drawdown Duration                53935.0\n",
       "# Trades                               2957.0\n",
       "Win Rate [%]                          2.73926\n",
       "Best Trade [%]                        1.95089\n",
       "Worst Trade [%]                      -8.68431\n",
       "Avg. Trade [%]                       -0.40347\n",
       "Max. Trade Duration                     106.0\n",
       "Avg. Trade Duration                  18.01928\n",
       "Profit Factor                         0.01915\n",
       "Expectancy [%]                       -0.40318\n",
       "SQN                                 -21.48674\n",
       "Kelly Criterion                      -0.98373\n",
       "_strategy                            SmaCross\n",
       "_equity_curve                         Equi...\n",
       "_trades                          Size  Ent...\n",
       "dtype: object"
      ]
     },
     "execution_count": 9,
     "metadata": {},
     "output_type": "execute_result"
    }
   ],
   "source": [
    "stats"
   ]
  },
  {
   "cell_type": "code",
   "execution_count": null,
   "id": "fc0cbef7-3550-4659-9dd7-f66f34d015ed",
   "metadata": {},
   "outputs": [],
   "source": []
  }
 ],
 "metadata": {
  "kernelspec": {
   "display_name": "Python 3 (ipykernel)",
   "language": "python",
   "name": "python3"
  },
  "language_info": {
   "codemirror_mode": {
    "name": "ipython",
    "version": 3
   },
   "file_extension": ".py",
   "mimetype": "text/x-python",
   "name": "python",
   "nbconvert_exporter": "python",
   "pygments_lexer": "ipython3",
   "version": "3.13.5"
  }
 },
 "nbformat": 4,
 "nbformat_minor": 5
}
